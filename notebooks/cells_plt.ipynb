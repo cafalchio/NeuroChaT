{
 "cells": [
  {
   "cell_type": "code",
   "execution_count": 1,
   "metadata": {},
   "outputs": [],
   "source": [
    "import os\n",
    "import sys\n",
    "import matplotlib\n",
    "import matplotlib.pyplot as plt\n",
    "import matplotlib.gridspec as gridspec\n",
    "%matplotlib inline\n",
    "#plt.xkcd()\n",
    "#sys.path.insert(1, r'C:\\Users\\smartin5\\Repos\\myNeurochat')\n",
    "sys.path.insert(1, r'C:\\Users\\maolivei\\neuro_sean\\NeuroChaT')\n",
    "%load_ext autoreload\n",
    "%autoreload 2"
   ]
  },
  {
   "cell_type": "code",
   "execution_count": 2,
   "metadata": {},
   "outputs": [],
   "source": [
    "import neurochat.nc_plot as nc_plot\n",
    "from neurochat.nc_datacontainer import NDataContainer\n",
    "from neurochat.nc_containeranalysis import place_cell_summary"
   ]
  },
  {
   "cell_type": "code",
   "execution_count": 3,
   "metadata": {},
   "outputs": [],
   "source": [
    "container =NDataContainer(load_on_fly=True)\n"
   ]
  },
  {
   "cell_type": "code",
   "execution_count": 25,
   "metadata": {},
   "outputs": [
    {
     "ename": "MemoryError",
     "evalue": "",
     "output_type": "error",
     "traceback": [
      "\u001b[1;31m---------------------------------------------------------------------------\u001b[0m",
      "\u001b[1;31mMemoryError\u001b[0m                               Traceback (most recent call last)",
      "\u001b[1;32m<ipython-input-25-1988270a0c71>\u001b[0m in \u001b[0;36m<module>\u001b[1;34m\u001b[0m\n\u001b[1;32m----> 1\u001b[1;33m \u001b[0mcontainer\u001b[0m\u001b[1;33m.\u001b[0m\u001b[0madd_axona_files_from_dir\u001b[0m\u001b[1;33m(\u001b[0m\u001b[1;34mr\"F:\\Chapter6\\6s_data_and_results\\Data\\MSC5\\230418b-MSC5\"\u001b[0m\u001b[1;33m)\u001b[0m\u001b[1;33m\u001b[0m\u001b[1;33m\u001b[0m\u001b[0m\n\u001b[0m",
      "\u001b[1;32m~\\neuro_sean\\NeuroChaT\\neurochat\\nc_datacontainer.py\u001b[0m in \u001b[0;36madd_axona_files_from_dir\u001b[1;34m(self, directory, **kwargs)\u001b[0m\n\u001b[0;32m    422\u001b[0m                 \u001b[0mself\u001b[0m\u001b[1;33m.\u001b[0m\u001b[0madd_files\u001b[0m\u001b[1;33m(\u001b[0m\u001b[0mNDataContainer\u001b[0m\u001b[1;33m.\u001b[0m\u001b[0mEFileType\u001b[0m\u001b[1;33m.\u001b[0m\u001b[0mPosition\u001b[0m\u001b[1;33m,\u001b[0m \u001b[1;33m[\u001b[0m\u001b[0mpos_name\u001b[0m\u001b[1;33m]\u001b[0m\u001b[1;33m)\u001b[0m\u001b[1;33m\u001b[0m\u001b[1;33m\u001b[0m\u001b[0m\n\u001b[0;32m    423\u001b[0m                 \u001b[0mself\u001b[0m\u001b[1;33m.\u001b[0m\u001b[0madd_files\u001b[0m\u001b[1;33m(\u001b[0m\u001b[0mNDataContainer\u001b[0m\u001b[1;33m.\u001b[0m\u001b[0mEFileType\u001b[0m\u001b[1;33m.\u001b[0m\u001b[0mLFP\u001b[0m\u001b[1;33m,\u001b[0m \u001b[1;33m[\u001b[0m\u001b[0mlfp_name\u001b[0m\u001b[1;33m]\u001b[0m\u001b[1;33m)\u001b[0m\u001b[1;33m\u001b[0m\u001b[1;33m\u001b[0m\u001b[0m\n\u001b[1;32m--> 424\u001b[1;33m         \u001b[0mself\u001b[0m\u001b[1;33m.\u001b[0m\u001b[0mset_units\u001b[0m\u001b[1;33m(\u001b[0m\u001b[1;33m)\u001b[0m\u001b[1;33m\u001b[0m\u001b[1;33m\u001b[0m\u001b[0m\n\u001b[0m\u001b[0;32m    425\u001b[0m \u001b[1;33m\u001b[0m\u001b[0m\n\u001b[0;32m    426\u001b[0m     \u001b[1;32mdef\u001b[0m \u001b[0mmerge\u001b[0m\u001b[1;33m(\u001b[0m\u001b[0mself\u001b[0m\u001b[1;33m,\u001b[0m \u001b[0mindices\u001b[0m\u001b[1;33m,\u001b[0m \u001b[0mforce_equal_units\u001b[0m\u001b[1;33m=\u001b[0m\u001b[1;32mTrue\u001b[0m\u001b[1;33m)\u001b[0m\u001b[1;33m:\u001b[0m\u001b[1;33m\u001b[0m\u001b[1;33m\u001b[0m\u001b[0m\n",
      "\u001b[1;32m~\\neuro_sean\\NeuroChaT\\neurochat\\nc_datacontainer.py\u001b[0m in \u001b[0;36mset_units\u001b[1;34m(self, units)\u001b[0m\n\u001b[0;32m    231\u001b[0m                 \u001b[1;32mfor\u001b[0m \u001b[0mdescriptor\u001b[0m \u001b[1;32min\u001b[0m \u001b[0mvals\u001b[0m\u001b[1;33m:\u001b[0m\u001b[1;33m\u001b[0m\u001b[1;33m\u001b[0m\u001b[0m\n\u001b[0;32m    232\u001b[0m                     \u001b[0mresult\u001b[0m \u001b[1;33m=\u001b[0m \u001b[0mNData\u001b[0m\u001b[1;33m(\u001b[0m\u001b[1;33m)\u001b[0m\u001b[1;33m\u001b[0m\u001b[1;33m\u001b[0m\u001b[0m\n\u001b[1;32m--> 233\u001b[1;33m                     \u001b[0mself\u001b[0m\u001b[1;33m.\u001b[0m\u001b[0m_load\u001b[0m\u001b[1;33m(\u001b[0m\u001b[1;34m\"Spike\"\u001b[0m\u001b[1;33m,\u001b[0m \u001b[0mdescriptor\u001b[0m\u001b[1;33m,\u001b[0m \u001b[0mndata\u001b[0m\u001b[1;33m=\u001b[0m\u001b[0mresult\u001b[0m\u001b[1;33m)\u001b[0m\u001b[1;33m\u001b[0m\u001b[1;33m\u001b[0m\u001b[0m\n\u001b[0m\u001b[0;32m    234\u001b[0m                     \u001b[0mself\u001b[0m\u001b[1;33m.\u001b[0m\u001b[0m_units\u001b[0m\u001b[1;33m.\u001b[0m\u001b[0mappend\u001b[0m\u001b[1;33m(\u001b[0m\u001b[0mresult\u001b[0m\u001b[1;33m.\u001b[0m\u001b[0mget_unit_list\u001b[0m\u001b[1;33m(\u001b[0m\u001b[1;33m)\u001b[0m\u001b[1;33m)\u001b[0m\u001b[1;33m\u001b[0m\u001b[1;33m\u001b[0m\u001b[0m\n\u001b[0;32m    235\u001b[0m             \u001b[1;32melse\u001b[0m\u001b[1;33m:\u001b[0m\u001b[1;33m\u001b[0m\u001b[1;33m\u001b[0m\u001b[0m\n",
      "\u001b[1;32m~\\neuro_sean\\NeuroChaT\\neurochat\\nc_datacontainer.py\u001b[0m in \u001b[0;36m_load\u001b[1;34m(self, key, descriptor, idx, ndata)\u001b[0m\n\u001b[0;32m    660\u001b[0m         \u001b[1;32mif\u001b[0m \u001b[0mfilename\u001b[0m \u001b[1;32mis\u001b[0m \u001b[1;32mnot\u001b[0m \u001b[1;32mNone\u001b[0m\u001b[1;33m:\u001b[0m\u001b[1;33m\u001b[0m\u001b[1;33m\u001b[0m\u001b[0m\n\u001b[0;32m    661\u001b[0m             \u001b[0mkey_fn_pairs\u001b[0m\u001b[1;33m[\u001b[0m\u001b[0mkey\u001b[0m\u001b[1;33m]\u001b[0m\u001b[1;33m[\u001b[0m\u001b[1;36m0\u001b[0m\u001b[1;33m]\u001b[0m\u001b[1;33m(\u001b[0m\u001b[0mfilename\u001b[0m\u001b[1;33m)\u001b[0m\u001b[1;33m\u001b[0m\u001b[1;33m\u001b[0m\u001b[0m\n\u001b[1;32m--> 662\u001b[1;33m             \u001b[0mkey_fn_pairs\u001b[0m\u001b[1;33m[\u001b[0m\u001b[0mkey\u001b[0m\u001b[1;33m]\u001b[0m\u001b[1;33m[\u001b[0m\u001b[1;36m2\u001b[0m\u001b[1;33m]\u001b[0m\u001b[1;33m(\u001b[0m\u001b[1;33m)\u001b[0m\u001b[1;33m\u001b[0m\u001b[1;33m\u001b[0m\u001b[0m\n\u001b[0m\u001b[0;32m    663\u001b[0m \u001b[1;33m\u001b[0m\u001b[0m\n\u001b[0;32m    664\u001b[0m     \u001b[1;32mdef\u001b[0m \u001b[0m__repr__\u001b[0m\u001b[1;33m(\u001b[0m\u001b[0mself\u001b[0m\u001b[1;33m)\u001b[0m\u001b[1;33m:\u001b[0m\u001b[1;33m\u001b[0m\u001b[1;33m\u001b[0m\u001b[0m\n",
      "\u001b[1;32m~\\neuro_sean\\NeuroChaT\\neurochat\\nc_data.py\u001b[0m in \u001b[0;36mload_spike\u001b[1;34m(self)\u001b[0m\n\u001b[0;32m    315\u001b[0m         \"\"\"\n\u001b[0;32m    316\u001b[0m \u001b[1;33m\u001b[0m\u001b[0m\n\u001b[1;32m--> 317\u001b[1;33m         \u001b[0mself\u001b[0m\u001b[1;33m.\u001b[0m\u001b[0mspike\u001b[0m\u001b[1;33m.\u001b[0m\u001b[0mload\u001b[0m\u001b[1;33m(\u001b[0m\u001b[1;33m)\u001b[0m\u001b[1;33m\u001b[0m\u001b[1;33m\u001b[0m\u001b[0m\n\u001b[0m\u001b[0;32m    318\u001b[0m \u001b[1;33m\u001b[0m\u001b[0m\n\u001b[0;32m    319\u001b[0m     \u001b[1;32mdef\u001b[0m \u001b[0mset_spatial_file\u001b[0m\u001b[1;33m(\u001b[0m\u001b[0mself\u001b[0m\u001b[1;33m,\u001b[0m \u001b[0mfilename\u001b[0m\u001b[1;33m)\u001b[0m\u001b[1;33m:\u001b[0m\u001b[1;33m\u001b[0m\u001b[1;33m\u001b[0m\u001b[0m\n",
      "\u001b[1;32m~\\neuro_sean\\NeuroChaT\\neurochat\\nc_spike.py\u001b[0m in \u001b[0;36mload\u001b[1;34m(self, filename, system)\u001b[0m\n\u001b[0;32m    432\u001b[0m             \u001b[0mself\u001b[0m\u001b[1;33m.\u001b[0m\u001b[0m_filename\u001b[0m \u001b[1;33m=\u001b[0m \u001b[0mfilename\u001b[0m\u001b[1;33m\u001b[0m\u001b[1;33m\u001b[0m\u001b[0m\n\u001b[0;32m    433\u001b[0m         \u001b[0mloader\u001b[0m \u001b[1;33m=\u001b[0m \u001b[0mgetattr\u001b[0m\u001b[1;33m(\u001b[0m\u001b[0mself\u001b[0m\u001b[1;33m,\u001b[0m \u001b[1;34m'load_spike_'\u001b[0m\u001b[1;33m+\u001b[0m \u001b[0msystem\u001b[0m\u001b[1;33m)\u001b[0m\u001b[1;33m\u001b[0m\u001b[1;33m\u001b[0m\u001b[0m\n\u001b[1;32m--> 434\u001b[1;33m         \u001b[0mloader\u001b[0m\u001b[1;33m(\u001b[0m\u001b[0mfilename\u001b[0m\u001b[1;33m)\u001b[0m\u001b[1;33m\u001b[0m\u001b[1;33m\u001b[0m\u001b[0m\n\u001b[0m\u001b[0;32m    435\u001b[0m \u001b[1;33m\u001b[0m\u001b[0m\n\u001b[0;32m    436\u001b[0m     \u001b[1;32mdef\u001b[0m \u001b[0madd_spike\u001b[0m\u001b[1;33m(\u001b[0m\u001b[0mself\u001b[0m\u001b[1;33m,\u001b[0m \u001b[0mspike\u001b[0m\u001b[1;33m=\u001b[0m\u001b[1;32mNone\u001b[0m\u001b[1;33m,\u001b[0m \u001b[1;33m**\u001b[0m\u001b[0mkwargs\u001b[0m\u001b[1;33m)\u001b[0m\u001b[1;33m:\u001b[0m\u001b[1;33m\u001b[0m\u001b[1;33m\u001b[0m\u001b[0m\n",
      "\u001b[1;32m~\\neuro_sean\\NeuroChaT\\neurochat\\nc_spike.py\u001b[0m in \u001b[0;36mload_spike_Axona\u001b[1;34m(self, file_name)\u001b[0m\n\u001b[0;32m   1608\u001b[0m                 \u001b[1;32mfor\u001b[0m \u001b[0mi\u001b[0m \u001b[1;32min\u001b[0m \u001b[0mnp\u001b[0m\u001b[1;33m.\u001b[0m\u001b[0marange\u001b[0m\u001b[1;33m(\u001b[0m\u001b[0mtot_channels\u001b[0m\u001b[1;33m)\u001b[0m\u001b[1;33m:\u001b[0m\u001b[1;33m\u001b[0m\u001b[1;33m\u001b[0m\u001b[0m\n\u001b[0;32m   1609\u001b[0m                     \u001b[0mchan_offset\u001b[0m \u001b[1;33m=\u001b[0m \u001b[1;33m(\u001b[0m\u001b[0mi\u001b[0m\u001b[1;33m+\u001b[0m\u001b[1;36m1\u001b[0m\u001b[1;33m)\u001b[0m\u001b[1;33m*\u001b[0m\u001b[0mbytes_per_timestamp\u001b[0m\u001b[1;33m+\u001b[0m \u001b[0mi\u001b[0m\u001b[1;33m*\u001b[0m\u001b[0mbytes_per_sample\u001b[0m\u001b[1;33m*\u001b[0m\u001b[0msamples_per_spike\u001b[0m\u001b[1;33m\u001b[0m\u001b[1;33m\u001b[0m\u001b[0m\n\u001b[1;32m-> 1610\u001b[1;33m                     \u001b[0mchan_wave\u001b[0m \u001b[1;33m=\u001b[0m \u001b[0mnp\u001b[0m\u001b[1;33m.\u001b[0m\u001b[0mzeros\u001b[0m\u001b[1;33m(\u001b[0m\u001b[1;33m[\u001b[0m\u001b[0mnum_spikes\u001b[0m\u001b[1;33m,\u001b[0m \u001b[0msamples_per_spike\u001b[0m\u001b[1;33m]\u001b[0m\u001b[1;33m,\u001b[0m \u001b[0mdtype\u001b[0m\u001b[1;33m=\u001b[0m\u001b[0mnp\u001b[0m\u001b[1;33m.\u001b[0m\u001b[0mfloat64\u001b[0m\u001b[1;33m)\u001b[0m\u001b[1;33m\u001b[0m\u001b[1;33m\u001b[0m\u001b[0m\n\u001b[0m\u001b[0;32m   1611\u001b[0m                     \u001b[1;32mfor\u001b[0m \u001b[0mj\u001b[0m \u001b[1;32min\u001b[0m \u001b[0mnp\u001b[0m\u001b[1;33m.\u001b[0m\u001b[0marange\u001b[0m\u001b[1;33m(\u001b[0m\u001b[1;36m0\u001b[0m\u001b[1;33m,\u001b[0m \u001b[0msamples_per_spike\u001b[0m\u001b[1;33m,\u001b[0m \u001b[1;36m1\u001b[0m\u001b[1;33m)\u001b[0m\u001b[1;33m:\u001b[0m\u001b[1;33m\u001b[0m\u001b[1;33m\u001b[0m\u001b[0m\n\u001b[0;32m   1612\u001b[0m                         \u001b[0msample_offset\u001b[0m \u001b[1;33m=\u001b[0m \u001b[0mj\u001b[0m\u001b[1;33m*\u001b[0m\u001b[0mbytes_per_sample\u001b[0m \u001b[1;33m+\u001b[0m \u001b[0mchan_offset\u001b[0m\u001b[1;33m\u001b[0m\u001b[1;33m\u001b[0m\u001b[0m\n",
      "\u001b[1;31mMemoryError\u001b[0m: "
     ]
    }
   ],
   "source": [
    "container.add_axona_files_from_dir(r\"F:\\Chapter6\\6s_data_and_results\\Data\\MSC5\\230418b-MSC5\")"
   ]
  },
  {
   "cell_type": "code",
   "execution_count": null,
   "metadata": {},
   "outputs": [],
   "source": [
    "container.setup()"
   ]
  },
  {
   "cell_type": "code",
   "execution_count": null,
   "metadata": {},
   "outputs": [],
   "source": [
    "place_cell_summary(container, dpi=75)"
   ]
  },
  {
   "cell_type": "code",
   "execution_count": null,
   "metadata": {},
   "outputs": [],
   "source": []
  },
  {
   "cell_type": "code",
   "execution_count": null,
   "metadata": {},
   "outputs": [],
   "source": [
    "spike = NSpike(system=\"Axona\")\n",
    "spike.set_name(\"CO\")\n",
    "spat = NSpatial(system=\"Axona\")\n",
    "spat.set_name(\"S0\")\n",
    "\n",
    "\n",
    "data_dir = \n",
    "spike_name = \"040319C_LCA1_open-arena_15min.2\"\n",
    "pos_name = \"040319C_LCA1_open-arena_15min_1.txt\"\n",
    "spike.set_filename(os.path.join(data_dir, spike_name))\n",
    "spat.set_filename(os.path.join(data_dir, pos_name))"
   ]
  },
  {
   "cell_type": "code",
   "execution_count": null,
   "metadata": {},
   "outputs": [],
   "source": [
    "spike.load()\n",
    "spat.load()"
   ]
  },
  {
   "cell_type": "code",
   "execution_count": null,
   "metadata": {},
   "outputs": [],
   "source": [
    "colorcells = []"
   ]
  },
  {
   "cell_type": "code",
   "execution_count": null,
   "metadata": {},
   "outputs": [],
   "source": [
    "# create Axona cell colours\n",
    "\n",
    "colorcells.append((0,0,200/255))\n",
    "colorcells.append((80/255,1,80/255))\n",
    "colorcells.append((1,0,0))\n",
    "colorcells.append((245/255,0,1))\n",
    "colorcells.append((75/255,200/255,255/255))\n",
    "colorcells.append((0/255, 185/255,0/255))\n",
    "colorcells.append((255/255, 185/255,50/255))\n",
    "colorcells.append((0/255, 150/255,175/255))\n",
    "colorcells.append((150/255, 0/255,175/255))\n",
    "colorcells.append((170/255, 170/255,0/255))\n",
    "colorcells.append((200/255, 0/255,0/255))\n",
    "colorcells.append((255/255, 255/255,0/255))\n",
    "colorcells.append((140/255, 140/255,140/255))\n",
    "colorcells.append((0/255, 255/255,255/255))\n",
    "colorcells.append((255/255, 0/255,160/255))\n",
    "colorcells.append((175/255, 75/255, 75/255))\n",
    "colorcells.append((255/255, 155/255, 175/255))\n",
    "colorcells.append((190/255, 190/255, 190/255))\n",
    "colorcells.append((255/255, 255/255, 75/255))\n",
    "colorcells.append((154/255, 205/255, 50/255))\n",
    "colorcells.append((255/255, 99/255, 71/255))\n",
    "colorcells.append((0/255, 255/255, 127/255))\n",
    "colorcells.append((255/255, 140/255, 0/255))\n",
    "colorcells.append((32/255, 178/255, 170/255))\n",
    "colorcells.append((255/255, 69/255, 0/255))\n",
    "colorcells.append((240/255, 230/255, 140/255))\n",
    "colorcells.append((100/255, 145/255, 237/255))\n",
    "colorcells.append((255/255, 218/255, 185/255))\n",
    "colorcells.append((153/255, 50/255, 204/255))\n",
    "colorcells.append((250/255, 128/255, 114/255))"
   ]
  },
  {
   "cell_type": "code",
   "execution_count": null,
   "metadata": {},
   "outputs": [],
   "source": [
    "units = spike.get_unit_list()"
   ]
  },
  {
   "cell_type": "code",
   "execution_count": null,
   "metadata": {},
   "outputs": [],
   "source": [
    "ndata = NData()\n",
    "ndata.spike = spike\n",
    "ndata.spatial = spat"
   ]
  },
  {
   "cell_type": "code",
   "execution_count": null,
   "metadata": {},
   "outputs": [],
   "source": [
    "placedata=[]\n",
    "graphdata=[]\n",
    "wavedata=[]\n",
    "for i in units:\n",
    "    spike.set_unit_no(i)\n",
    "    placedata.append(ndata.place(pixel=3, filter=['b', 3], range=[0, spat.get_duration()], chop_bound=0, fieldThresh=0.2, minPlaceFieldNeighbours=0, smoothPlace=False))\n",
    "    graphdata.append(ndata.isi_corr(bins = 1, bound = [-10, 10]))\n",
    "    wavedata.append(ndata.wave_property())"
   ]
  },
  {
   "cell_type": "code",
   "execution_count": null,
   "metadata": {},
   "outputs": [],
   "source": [
    "def create_grid(rows, cols=4, size_multiplier=4, wspace=1.3, hspace=1.5):\n",
    "    fig = plt.figure(\n",
    "        figsize=(cols * size_multiplier, rows * size_multiplier), \n",
    "        tight_layout=True)\n",
    "    gs = gridspec.GridSpec(2 * rows, 2 * cols, wspace=wspace, hspace=hspace)\n",
    "    for i in range(rows):\n",
    "        \n",
    "        # Plot the spike position\n",
    "        place_data = placedata[i]\n",
    "        ax = fig.add_subplot(gs[2*i:2*(i+1),0:2])\n",
    "        ax.plot(place_data['posX'], place_data['posY'], color='black', zorder=1)\n",
    "        ax.scatter(place_data['spikeLoc'][0], place_data['spikeLoc'][1], \\\n",
    "           s=80, marker='.', color=colorcells[i], zorder=2)\n",
    "        ax.invert_yaxis()\n",
    "        \n",
    "        # Plot the rate map\n",
    "        ax11 = fig.add_subplot(gs[2*i:2*(i+1),2:4])\n",
    "        nc_plot.loc_rate(place_data, ax=ax11, smooth=True)\n",
    "        \n",
    "        \n",
    "        # Plot -10 to 10 autocorrelation    \n",
    "        nc_plot.isi_corr(graphdata[i], ax=fig.add_subplot(gs[2*i:2*(i+1),4:6]))\n",
    "    \n",
    "        \n",
    "        # Plot wave property\n",
    "        wave_data = wavedata[i]\n",
    "        ax1 = fig.add_subplot(gs[2*i, 6])\n",
    "        ax1.plot(wave_data['Mean wave'][:,0], color='black', linewidth=1.0)\n",
    "        ax1.plot(wave_data['Mean wave'][:,0]+wave_data['Std wave'][:, 0],\\\n",
    "          color='green', linestyle='dashed')\n",
    "        ax1.plot(wave_data['Mean wave'][:,0]-wave_data['Std wave'][:, 0],\\\n",
    "          color='green', linestyle='dashed')\n",
    "        \n",
    "        ax2 = fig.add_subplot(gs[2*i, 7])\n",
    "        ax2.plot(wave_data['Mean wave'][:,1], color='black', linewidth=1.0)\n",
    "        ax2.plot(wave_data['Mean wave'][:, 1]+wave_data['Std wave'][:, 1],\\\n",
    "          color='green', linestyle='dashed')\n",
    "        ax2.plot(wave_data['Mean wave'][:, 1]-wave_data['Std wave'][:, 1],\\\n",
    "          color='green', linestyle='dashed')\n",
    "        \n",
    "        ax3 = fig.add_subplot(gs[2*i+1, 6])\n",
    "        ax3.plot(wave_data['Mean wave'][:,2], color='black', linewidth=1.0)\n",
    "        ax3.plot(wave_data['Mean wave'][:, 2]+wave_data['Std wave'][:, 2],\\\n",
    "          color='green', linestyle='dashed')\n",
    "        ax3.plot(wave_data['Mean wave'][:, 2]-wave_data['Std wave'][:, 2],\\\n",
    "          color='green', linestyle='dashed')\n",
    "        \n",
    "        ax4 = fig.add_subplot(gs[2*i+1, 7])\n",
    "        ax4.plot(wave_data['Mean wave'][:,3], color='black', linewidth=1.0)\n",
    "        ax4.plot(wave_data['Mean wave'][:, 3]+wave_data['Std wave'][:, 3],\\\n",
    "          color='green', linestyle='dashed')\n",
    "        ax4.plot(wave_data['Mean wave'][:, 3]-wave_data['Std wave'][:, 3],\\\n",
    "          color='green', linestyle='dashed')\n",
    "    \n",
    "    #plt.tight_layout()\n",
    "    return fig"
   ]
  },
  {
   "cell_type": "code",
   "execution_count": null,
   "metadata": {},
   "outputs": [],
   "source": [
    "fig = create_grid(len(units))\n",
    "plt.savefig(r'C:/Users/maolivei/Desktop/tetrode5.pdf', facecolor='w', papertype='a4')"
   ]
  },
  {
   "cell_type": "code",
   "execution_count": null,
   "metadata": {},
   "outputs": [],
   "source": []
  }
 ],
 "metadata": {
  "kernelspec": {
   "display_name": "Python 3",
   "language": "python",
   "name": "python3"
  },
  "language_info": {
   "codemirror_mode": {
    "name": "ipython",
    "version": 3
   },
   "file_extension": ".py",
   "mimetype": "text/x-python",
   "name": "python",
   "nbconvert_exporter": "python",
   "pygments_lexer": "ipython3",
   "version": "3.7.3"
  }
 },
 "nbformat": 4,
 "nbformat_minor": 2
}
