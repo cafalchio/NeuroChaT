{
 "cells": [
  {
   "cell_type": "markdown",
   "metadata": {},
   "source": [
    "# T Maze protocol"
   ]
  },
  {
   "cell_type": "markdown",
   "metadata": {},
   "source": [
    "## Habituation"
   ]
  },
  {
   "cell_type": "markdown",
   "metadata": {},
   "source": [
    "**Day 1:** Rat should freely explore by scattering pellets throughout the maze. (5 min) "
   ]
  },
  {
   "cell_type": "markdown",
   "metadata": {},
   "source": [
    "**Day 2:**  Rat are plugged (or not). \n",
    "1. A door is used to block one arm; \n",
    "2. Bowl with 2 pellets is placed in the end of each non-blocked arms. \n",
    "3. Replace the pellets after the rat leave the visited arm.\n",
    "4. Change the blocked arm and repeat the exploration (for each arm)"
   ]
  },
  {
   "cell_type": "markdown",
   "metadata": {},
   "source": [
    "**Day 3:**  Still with one of the arms blocked, introduce a door in the start arm.\n",
    "Put the rat in the start position, wait 10s and open. The rat should get food in both arms.\n",
    "Day 3 should be repeated till the rat run for the food easilly."
   ]
  },
  {
   "cell_type": "markdown",
   "metadata": {},
   "source": [
    "## Alternation task"
   ]
  },
  {
   "cell_type": "markdown",
   "metadata": {},
   "source": [
    "This task tests the innate behaviour for a rat to alternate, i.e. if one arm was investigated then the next time a different arm would be investigated, rather than return to the same arm. A rat is placed in the maze and runs down a forced choice arm, by blocking off the other so there is only one option available. The rat is then returned to the start and the arm unblocked, so the rat has the choice of the new arm (showing alternation) or returning to the one it had just investigated. "
   ]
  },
  {
   "attachments": {
    "tmaze1.png": {
     "image/png": "[encoded data removed]"
    }
   },
   "cell_type": "markdown",
   "metadata": {},
   "source": [
    "![tmaze1.png](attachment:tmaze1.png)"
   ]
  },
  {
   "cell_type": "markdown",
   "metadata": {},
   "source": [
    "**Task:**\n",
    "Place rat in start position with door in place. Only one arm is available forcing a L or R turn.\n",
    "Start recording trial in Axona (900s).\n",
    "\n",
    "Door is removed from start position and rat runs down arm to retrieve pellets. Door is replaced once rat has passed through.\n",
    "\n",
    "Once rat has retrieved pellets it is returned to start position. **Do not let rat run back down maze.**\n",
    "\n",
    "Rat is kept in start position for ~20 seconds, while the forced choice door is removed.\n",
    "\n",
    "Door is removed from start position and rat is allowed to run down maze. Rat then chooses which arm to take (L or R turn). \n",
    "A choice is made once the hind paws cross the start of the arm. If the rat selects the wrong arm they are not allowed to run to the other side. Once a rat has chosen an arm and retrieved the pellets (if applicable) they are put back in the home cage, still plugged in. \n",
    "\n",
    "**Generate the table and print the file using the code below:**"
   ]
  },
  {
   "cell_type": "code",
   "execution_count": 100,
   "metadata": {},
   "outputs": [],
   "source": [
    "from random import randint, random, seed\n",
    "from math import floor\n",
    "def knuth_shuffle(the_list):\n",
    "    amnt_to_shuffle = len(the_list)\n",
    "    while amnt_to_shuffle > 1:\n",
    "        i = int(floor(random() * amnt_to_shuffle))\n",
    "        amnt_to_shuffle -= 1\n",
    "        the_list[i], the_list[amnt_to_shuffle] = the_list[amnt_to_shuffle], the_list[i]\n",
    "    return the_list"
   ]
  },
  {
   "cell_type": "code",
   "execution_count": 101,
   "metadata": {},
   "outputs": [],
   "source": [
    "def print_days(days, filename):\n",
    "    with open(filename, 'w') as file:\n",
    "        for i, day in enumerate(days):\n",
    "            file.write('Day {}:\\n\\t Start  Block\\tResult \\n'.format(i+1))\n",
    "            for trial in day:\n",
    "                file.write(\"\\t   {}\\t   {}\\t______ \\n\".format(trial[1], trial[0]))\n",
    "            "
   ]
  },
  {
   "cell_type": "code",
   "execution_count": 102,
   "metadata": {},
   "outputs": [],
   "source": [
    "#Create list\n",
    "sides = ['L','L','L','L','R','R','R','R']\n",
    "start = [1,2,3,4,1,2,3,4]\n",
    "\n",
    "days = []\n",
    "num_days = 8\n",
    "constant_seed = 42\n",
    "seed(constant_seed)\n",
    "for day_idx in range(num_days):\n",
    "    shuffle_sides = knuth_shuffle(sides) \n",
    "    shuffle_start = knuth_shuffle(start)\n",
    "    day = []\n",
    "    for side, st in zip(shuffle_sides, shuffle_start):\n",
    "        day.append((side, st))\n",
    "    days.append(day)"
   ]
  },
  {
   "cell_type": "code",
   "execution_count": 103,
   "metadata": {},
   "outputs": [],
   "source": [
    "print_days(days,'test.txt')"
   ]
  },
  {
   "cell_type": "markdown",
   "metadata": {},
   "source": [
    "## Analyzing the data##"
   ]
  },
  {
   "cell_type": "code",
   "execution_count": null,
   "metadata": {},
   "outputs": [],
   "source": []
  }
 ],
 "metadata": {
  "kernelspec": {
   "display_name": "Python 3",
   "language": "python",
   "name": "python3"
  },
  "language_info": {
   "codemirror_mode": {
    "name": "ipython",
    "version": 3
   },
   "file_extension": ".py",
   "mimetype": "text/x-python",
   "name": "python",
   "nbconvert_exporter": "python",
   "pygments_lexer": "ipython3",
   "version": "3.7.2"
  }
 },
 "nbformat": 4,
 "nbformat_minor": 2
}
