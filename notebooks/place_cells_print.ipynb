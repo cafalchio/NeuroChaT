{
 "cells": [
  {
   "cell_type": "code",
   "execution_count": 1,
   "metadata": {},
   "outputs": [],
   "source": [
    "import os\n",
    "import sys\n",
    "import matplotlib.pyplot as plt \n",
    "import numpy as np\n",
    "import matplotlib.gridspec as gridspec\n",
    "%matplotlib inline\n",
    "sys.path.insert(1, r'C:\\Users\\maolivei\\neuro_sean\\NeuroChaT')\n",
    "%load_ext autoreload\n",
    "%autoreload 2"
   ]
  },
  {
   "cell_type": "markdown",
   "metadata": {},
   "source": [
    "# Load Axona Classes"
   ]
  },
  {
   "cell_type": "code",
   "execution_count": 2,
   "metadata": {},
   "outputs": [],
   "source": [
    "from neurochat.nc_data import NData\n",
    "from neurochat.nc_spike import NSpike\n",
    "from neurochat.nc_spatial import NSpatial\n",
    "import neurochat.nc_plot as nc_plot\n",
    "from neurochat.nc_lfp import NLfp"
   ]
  },
  {
   "cell_type": "code",
   "execution_count": 3,
   "metadata": {},
   "outputs": [],
   "source": [
    "spike = NSpike(system=\"Axona\")\n",
    "spike.set_name(\"CO\")\n",
    "spat = NSpatial(system=\"Axona\")\n",
    "spat.set_name(\"S0\")\n",
    "\n",
    "data_dir = r\"C:\\Users\\maolivei\\Documents\\post_doc\\data\\LCA1\"\n",
    "spike_name = r\"040319C_LCA1_open-arena_15min.1\"\n",
    "pos_name = r\"040319C_LCA1_open-arena_15min_1.txt\"\n",
    "#eeg_name = r'LCA1-linear sleep1 260219.egf' \n",
    "spike.set_filename(os.path.join(data_dir, spike_name))\n",
    "spat.set_filename(os.path.join(data_dir, pos_name))\n",
    "#NLfp.set_filename(os.path.join(data_dir, eeg_name))"
   ]
  },
  {
   "cell_type": "code",
   "execution_count": 4,
   "metadata": {},
   "outputs": [],
   "source": [
    "spike.load()\n",
    "spat.load()"
   ]
  },
  {
   "cell_type": "markdown",
   "metadata": {},
   "source": [
    "plt.figure(figsize=(20,40), facecolor='white')\n",
    "for unit in spike.get_unit_list():\n",
    "    spike.set_unit_no(unit)\n",
    "    ndata = NData()\n",
    "    ndata.spike = spike\n",
    "    ndata.spatial = spat\n",
    "    graphData= ndata.wave_property() \n",
    "    fig = nc_plot.wave_property(graphData, [int (spike.get_total_channels()/2), 2])\n",
    "    plt.savefig('wave_'+ str(unit))\n",
    "    pixel_size = 5\n",
    "    placeData = ndata.place(pixel=pixel_size, filter=['b', 5], range=[0, spat.get_duration()], chop_bound=0)\n",
    "    fig = nc_plot.loc_firing(placeData)\n",
    "    plt.savefig('firing_'+ str(unit))\n",
    "    graphData= ndata.isi_corr(bins = 1, bound = [-10, 10]) \n",
    "    fig = nc_plot.isi_corr(graphData)\n",
    "    plt.savefig('isis_'+ str(unit))\n",
    "    \n",
    "    \n"
   ]
  },
  {
   "cell_type": "code",
   "execution_count": 47,
   "metadata": {},
   "outputs": [
    {
     "name": "stderr",
     "output_type": "stream",
     "text": [
      "[autoreload of neurochat.nc_plot failed: Traceback (most recent call last):\n",
      "  File \"C:\\Users\\maolivei\\AppData\\Local\\conda\\conda\\envs\\Neurochat\\lib\\site-packages\\IPython\\extensions\\autoreload.py\", line 244, in check\n",
      "    superreload(m, reload, self.old_objects)\n",
      "  File \"C:\\Users\\maolivei\\AppData\\Local\\conda\\conda\\envs\\Neurochat\\lib\\site-packages\\IPython\\extensions\\autoreload.py\", line 376, in superreload\n",
      "    module = reload(module)\n",
      "  File \"C:\\Users\\maolivei\\AppData\\Local\\conda\\conda\\envs\\Neurochat\\lib\\imp.py\", line 314, in reload\n",
      "    return importlib.reload(module)\n",
      "  File \"C:\\Users\\maolivei\\AppData\\Local\\conda\\conda\\envs\\Neurochat\\lib\\importlib\\__init__.py\", line 169, in reload\n",
      "    _bootstrap._exec(spec, module)\n",
      "  File \"<frozen importlib._bootstrap>\", line 630, in _exec\n",
      "  File \"<frozen importlib._bootstrap_external>\", line 724, in exec_module\n",
      "  File \"<frozen importlib._bootstrap_external>\", line 860, in get_code\n",
      "  File \"<frozen importlib._bootstrap_external>\", line 791, in source_to_code\n",
      "  File \"<frozen importlib._bootstrap>\", line 219, in _call_with_frames_removed\n",
      "  File \"C:\\Users\\maolivei\\neuro_sean\\NeuroChaT\\neurochat\\nc_plot.py\", line 58\n",
      "    def scatterplot_matrix(_data, names=[], **kwargs):\n",
      "                                                     ^\n",
      "IndentationError: expected an indented block\n",
      "]\n"
     ]
    },
    {
     "data": {
      "image/png": "[encoded data removed]",
      "text/plain": [
       "<Figure size 576x288 with 16 Axes>"
      ]
     },
     "metadata": {
      "needs_background": "light"
     },
     "output_type": "display_data"
    }
   ],
   "source": [
    "nc_plot.plot_cells(2)"
   ]
  },
  {
   "cell_type": "code",
   "execution_count": null,
   "metadata": {},
   "outputs": [],
   "source": []
  }
 ],
 "metadata": {
  "kernelspec": {
   "display_name": "Python 3",
   "language": "python",
   "name": "python3"
  },
  "language_info": {
   "codemirror_mode": {
    "name": "ipython",
    "version": 3
   },
   "file_extension": ".py",
   "mimetype": "text/x-python",
   "name": "python",
   "nbconvert_exporter": "python",
   "pygments_lexer": "ipython3",
   "version": "3.7.2"
  }
 },
 "nbformat": 4,
 "nbformat_minor": 2
}
